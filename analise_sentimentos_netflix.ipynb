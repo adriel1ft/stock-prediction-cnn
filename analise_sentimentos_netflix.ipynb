{
  "cells": [
    {
      "cell_type": "markdown",
      "metadata": {
        "id": "aMxUD8i5rM78"
      },
      "source": [
        "## Análise de Sentimentos"
      ]
    },
    {
      "cell_type": "code",
      "execution_count": null,
      "metadata": {},
      "outputs": [],
      "source": [
        "import pandas as pd"
      ]
    },
    {
      "cell_type": "code",
      "execution_count": null,
      "metadata": {
        "id": "J0JudHDgCAzr"
      },
      "outputs": [],
      "source": [
        "noticias = pd.read_csv(\"https://raw.githubusercontent.com/adriel1ft/stock-prediction-cnn/main/articles_netflix_2015-2022.csv\", index_col = 0)"
      ]
    },
    {
      "cell_type": "code",
      "execution_count": null,
      "metadata": {
        "colab": {
          "base_uri": "https://localhost:8080/"
        },
        "id": "8kh2nxB1v14O",
        "outputId": "2ef5d41c-b3d7-4192-ca46-da139dcd2745"
      },
      "outputs": [
        {
          "name": "stderr",
          "output_type": "stream",
          "text": [
            "/usr/local/lib/python3.10/dist-packages/transformers/tokenization_utils_base.py:1601: FutureWarning: `clean_up_tokenization_spaces` was not set. It will be set to `True` by default. This behavior will be depracted in transformers v4.45, and will be then set to `False` by default. For more details check this issue: https://github.com/huggingface/transformers/issues/31884\n",
            "  warnings.warn(\n",
            "Hardware accelerator e.g. GPU is available in the environment, but no `device` argument is passed to the `Pipeline` object. Model will be on CPU.\n"
          ]
        },
        {
          "name": "stdout",
          "output_type": "stream",
          "text": [
            "                                                        title sentimento  \\\n",
            "year_month                                                                 \n",
            "201501      Sundance 2015: Duplass Brothers, Netflix Make ...    Neutral   \n",
            "201501      Netflix Accelerates Ambitious Global Expansion...   Positive   \n",
            "201501       Movie Studio by Amazon for Screens Big and Small    Neutral   \n",
            "201501      As Content Pours From Everywhere, New Network ...    Neutral   \n",
            "201501                    Cleaning Up the Mac’s Printers List    Neutral   \n",
            "...                                                       ...        ...   \n",
            "202112      The Best Movies and TV Shows New to Netflix, A...   Positive   \n",
            "202112                            5 Things to Do This Weekend    Neutral   \n",
            "202112       ‘Emily in Paris’ and the City I Thought Was Mine    Neutral   \n",
            "202112      ‘Cowboy Bebop’ Beats and the Universe of ‘Dune...    Neutral   \n",
            "202112          In 2021, Black Boyhood Got More Complex on TV    Neutral   \n",
            "\n",
            "               score  \n",
            "year_month            \n",
            "201501      0.999860  \n",
            "201501      0.995587  \n",
            "201501      0.999978  \n",
            "201501      0.894186  \n",
            "201501      0.999932  \n",
            "...              ...  \n",
            "202112      0.999592  \n",
            "202112      0.999828  \n",
            "202112      0.999601  \n",
            "202112      0.999988  \n",
            "202112      0.999547  \n",
            "\n",
            "[840 rows x 3 columns]\n"
          ]
        }
      ],
      "source": [
        "from transformers import AutoModelForSequenceClassification, AutoTokenizer, pipeline\n",
        "\n",
        "finbert = AutoModelForSequenceClassification.from_pretrained(\"yiyanghkust/finbert-tone\", num_labels=3)\n",
        "tokenizer = AutoTokenizer.from_pretrained(\"yiyanghkust/finbert-tone\")\n",
        "\n",
        "sentiment_pipeline = pipeline(\"sentiment-analysis\", model=finbert, tokenizer=tokenizer)\n",
        "\n",
        "data = noticias['title'].tolist()\n",
        "\n",
        "resultados = sentiment_pipeline(data)\n",
        "\n",
        "noticias['sentimento'] = [resultado['label'] for resultado in resultados]\n",
        "noticias['score'] = [resultado['score'] for resultado in resultados]\n",
        "\n",
        "print(noticias)"
      ]
    },
    {
      "cell_type": "code",
      "execution_count": null,
      "metadata": {
        "colab": {
          "base_uri": "https://localhost:8080/",
          "height": 237
        },
        "id": "crdciIb3C_uB",
        "outputId": "a22b0ad5-55d5-49de-dcc1-b1a63eb40068"
      },
      "outputs": [
        {
          "data": {
            "application/vnd.google.colaboratory.intrinsic+json": {
              "summary": "{\n  \"name\": \"noticias\",\n  \"rows\": 840,\n  \"fields\": [\n    {\n      \"column\": \"year_month\",\n      \"properties\": {\n        \"dtype\": \"number\",\n        \"std\": 200,\n        \"min\": 201501,\n        \"max\": 202112,\n        \"num_unique_values\": 84,\n        \"samples\": [\n          202102,\n          201501,\n          201911\n        ],\n        \"semantic_type\": \"\",\n        \"description\": \"\"\n      }\n    },\n    {\n      \"column\": \"title\",\n      \"properties\": {\n        \"dtype\": \"string\",\n        \"num_unique_values\": 819,\n        \"samples\": [\n          \"Idris Elba\\u2019s Toughest Role Yet: Going Brutal With Grace for \\u2018Beasts of No Nation\\u2019\",\n          \"Netflix and Kenya Barris, Creator of \\u2018Black-ish,\\u2019 Reach a Deal\",\n          \"Netflix Series Stirs Debate About the Lives of Ultra-Orthodox Women\"\n        ],\n        \"semantic_type\": \"\",\n        \"description\": \"\"\n      }\n    },\n    {\n      \"column\": \"sentimento\",\n      \"properties\": {\n        \"dtype\": \"category\",\n        \"num_unique_values\": 3,\n        \"samples\": [\n          \"Neutral\",\n          \"Positive\",\n          \"Negative\"\n        ],\n        \"semantic_type\": \"\",\n        \"description\": \"\"\n      }\n    },\n    {\n      \"column\": \"score\",\n      \"properties\": {\n        \"dtype\": \"number\",\n        \"std\": 0.07174110059096807,\n        \"min\": 0.45476233959198,\n        \"max\": 1.0,\n        \"num_unique_values\": 704,\n        \"samples\": [\n          0.9988127946853638,\n          0.9999939203262329,\n          0.9997971653938293\n        ],\n        \"semantic_type\": \"\",\n        \"description\": \"\"\n      }\n    }\n  ]\n}",
              "type": "dataframe",
              "variable_name": "noticias"
            },
            "text/html": [
              "\n",
              "  <div id=\"df-17b81eac-2337-4331-b142-962864609748\" class=\"colab-df-container\">\n",
              "    <div>\n",
              "<style scoped>\n",
              "    .dataframe tbody tr th:only-of-type {\n",
              "        vertical-align: middle;\n",
              "    }\n",
              "\n",
              "    .dataframe tbody tr th {\n",
              "        vertical-align: top;\n",
              "    }\n",
              "\n",
              "    .dataframe thead th {\n",
              "        text-align: right;\n",
              "    }\n",
              "</style>\n",
              "<table border=\"1\" class=\"dataframe\">\n",
              "  <thead>\n",
              "    <tr style=\"text-align: right;\">\n",
              "      <th></th>\n",
              "      <th>title</th>\n",
              "      <th>sentimento</th>\n",
              "      <th>score</th>\n",
              "    </tr>\n",
              "    <tr>\n",
              "      <th>year_month</th>\n",
              "      <th></th>\n",
              "      <th></th>\n",
              "      <th></th>\n",
              "    </tr>\n",
              "  </thead>\n",
              "  <tbody>\n",
              "    <tr>\n",
              "      <th>201501</th>\n",
              "      <td>Sundance 2015: Duplass Brothers, Netflix Make ...</td>\n",
              "      <td>Neutral</td>\n",
              "      <td>0.999860</td>\n",
              "    </tr>\n",
              "    <tr>\n",
              "      <th>201501</th>\n",
              "      <td>Netflix Accelerates Ambitious Global Expansion...</td>\n",
              "      <td>Positive</td>\n",
              "      <td>0.995587</td>\n",
              "    </tr>\n",
              "    <tr>\n",
              "      <th>201501</th>\n",
              "      <td>Movie Studio by Amazon for Screens Big and Small</td>\n",
              "      <td>Neutral</td>\n",
              "      <td>0.999978</td>\n",
              "    </tr>\n",
              "    <tr>\n",
              "      <th>201501</th>\n",
              "      <td>As Content Pours From Everywhere, New Network ...</td>\n",
              "      <td>Neutral</td>\n",
              "      <td>0.894186</td>\n",
              "    </tr>\n",
              "    <tr>\n",
              "      <th>201501</th>\n",
              "      <td>Cleaning Up the Mac’s Printers List</td>\n",
              "      <td>Neutral</td>\n",
              "      <td>0.999932</td>\n",
              "    </tr>\n",
              "  </tbody>\n",
              "</table>\n",
              "</div>\n",
              "    <div class=\"colab-df-buttons\">\n",
              "\n",
              "  <div class=\"colab-df-container\">\n",
              "    <button class=\"colab-df-convert\" onclick=\"convertToInteractive('df-17b81eac-2337-4331-b142-962864609748')\"\n",
              "            title=\"Convert this dataframe to an interactive table.\"\n",
              "            style=\"display:none;\">\n",
              "\n",
              "  <svg xmlns=\"http://www.w3.org/2000/svg\" height=\"24px\" viewBox=\"0 -960 960 960\">\n",
              "    <path d=\"M120-120v-720h720v720H120Zm60-500h600v-160H180v160Zm220 220h160v-160H400v160Zm0 220h160v-160H400v160ZM180-400h160v-160H180v160Zm440 0h160v-160H620v160ZM180-180h160v-160H180v160Zm440 0h160v-160H620v160Z\"/>\n",
              "  </svg>\n",
              "    </button>\n",
              "\n",
              "  <style>\n",
              "    .colab-df-container {\n",
              "      display:flex;\n",
              "      gap: 12px;\n",
              "    }\n",
              "\n",
              "    .colab-df-convert {\n",
              "      background-color: #E8F0FE;\n",
              "      border: none;\n",
              "      border-radius: 50%;\n",
              "      cursor: pointer;\n",
              "      display: none;\n",
              "      fill: #1967D2;\n",
              "      height: 32px;\n",
              "      padding: 0 0 0 0;\n",
              "      width: 32px;\n",
              "    }\n",
              "\n",
              "    .colab-df-convert:hover {\n",
              "      background-color: #E2EBFA;\n",
              "      box-shadow: 0px 1px 2px rgba(60, 64, 67, 0.3), 0px 1px 3px 1px rgba(60, 64, 67, 0.15);\n",
              "      fill: #174EA6;\n",
              "    }\n",
              "\n",
              "    .colab-df-buttons div {\n",
              "      margin-bottom: 4px;\n",
              "    }\n",
              "\n",
              "    [theme=dark] .colab-df-convert {\n",
              "      background-color: #3B4455;\n",
              "      fill: #D2E3FC;\n",
              "    }\n",
              "\n",
              "    [theme=dark] .colab-df-convert:hover {\n",
              "      background-color: #434B5C;\n",
              "      box-shadow: 0px 1px 3px 1px rgba(0, 0, 0, 0.15);\n",
              "      filter: drop-shadow(0px 1px 2px rgba(0, 0, 0, 0.3));\n",
              "      fill: #FFFFFF;\n",
              "    }\n",
              "  </style>\n",
              "\n",
              "    <script>\n",
              "      const buttonEl =\n",
              "        document.querySelector('#df-17b81eac-2337-4331-b142-962864609748 button.colab-df-convert');\n",
              "      buttonEl.style.display =\n",
              "        google.colab.kernel.accessAllowed ? 'block' : 'none';\n",
              "\n",
              "      async function convertToInteractive(key) {\n",
              "        const element = document.querySelector('#df-17b81eac-2337-4331-b142-962864609748');\n",
              "        const dataTable =\n",
              "          await google.colab.kernel.invokeFunction('convertToInteractive',\n",
              "                                                    [key], {});\n",
              "        if (!dataTable) return;\n",
              "\n",
              "        const docLinkHtml = 'Like what you see? Visit the ' +\n",
              "          '<a target=\"_blank\" href=https://colab.research.google.com/notebooks/data_table.ipynb>data table notebook</a>'\n",
              "          + ' to learn more about interactive tables.';\n",
              "        element.innerHTML = '';\n",
              "        dataTable['output_type'] = 'display_data';\n",
              "        await google.colab.output.renderOutput(dataTable, element);\n",
              "        const docLink = document.createElement('div');\n",
              "        docLink.innerHTML = docLinkHtml;\n",
              "        element.appendChild(docLink);\n",
              "      }\n",
              "    </script>\n",
              "  </div>\n",
              "\n",
              "\n",
              "<div id=\"df-2b31a1fc-6429-4173-a879-cf438634aff0\">\n",
              "  <button class=\"colab-df-quickchart\" onclick=\"quickchart('df-2b31a1fc-6429-4173-a879-cf438634aff0')\"\n",
              "            title=\"Suggest charts\"\n",
              "            style=\"display:none;\">\n",
              "\n",
              "<svg xmlns=\"http://www.w3.org/2000/svg\" height=\"24px\"viewBox=\"0 0 24 24\"\n",
              "     width=\"24px\">\n",
              "    <g>\n",
              "        <path d=\"M19 3H5c-1.1 0-2 .9-2 2v14c0 1.1.9 2 2 2h14c1.1 0 2-.9 2-2V5c0-1.1-.9-2-2-2zM9 17H7v-7h2v7zm4 0h-2V7h2v10zm4 0h-2v-4h2v4z\"/>\n",
              "    </g>\n",
              "</svg>\n",
              "  </button>\n",
              "\n",
              "<style>\n",
              "  .colab-df-quickchart {\n",
              "      --bg-color: #E8F0FE;\n",
              "      --fill-color: #1967D2;\n",
              "      --hover-bg-color: #E2EBFA;\n",
              "      --hover-fill-color: #174EA6;\n",
              "      --disabled-fill-color: #AAA;\n",
              "      --disabled-bg-color: #DDD;\n",
              "  }\n",
              "\n",
              "  [theme=dark] .colab-df-quickchart {\n",
              "      --bg-color: #3B4455;\n",
              "      --fill-color: #D2E3FC;\n",
              "      --hover-bg-color: #434B5C;\n",
              "      --hover-fill-color: #FFFFFF;\n",
              "      --disabled-bg-color: #3B4455;\n",
              "      --disabled-fill-color: #666;\n",
              "  }\n",
              "\n",
              "  .colab-df-quickchart {\n",
              "    background-color: var(--bg-color);\n",
              "    border: none;\n",
              "    border-radius: 50%;\n",
              "    cursor: pointer;\n",
              "    display: none;\n",
              "    fill: var(--fill-color);\n",
              "    height: 32px;\n",
              "    padding: 0;\n",
              "    width: 32px;\n",
              "  }\n",
              "\n",
              "  .colab-df-quickchart:hover {\n",
              "    background-color: var(--hover-bg-color);\n",
              "    box-shadow: 0 1px 2px rgba(60, 64, 67, 0.3), 0 1px 3px 1px rgba(60, 64, 67, 0.15);\n",
              "    fill: var(--button-hover-fill-color);\n",
              "  }\n",
              "\n",
              "  .colab-df-quickchart-complete:disabled,\n",
              "  .colab-df-quickchart-complete:disabled:hover {\n",
              "    background-color: var(--disabled-bg-color);\n",
              "    fill: var(--disabled-fill-color);\n",
              "    box-shadow: none;\n",
              "  }\n",
              "\n",
              "  .colab-df-spinner {\n",
              "    border: 2px solid var(--fill-color);\n",
              "    border-color: transparent;\n",
              "    border-bottom-color: var(--fill-color);\n",
              "    animation:\n",
              "      spin 1s steps(1) infinite;\n",
              "  }\n",
              "\n",
              "  @keyframes spin {\n",
              "    0% {\n",
              "      border-color: transparent;\n",
              "      border-bottom-color: var(--fill-color);\n",
              "      border-left-color: var(--fill-color);\n",
              "    }\n",
              "    20% {\n",
              "      border-color: transparent;\n",
              "      border-left-color: var(--fill-color);\n",
              "      border-top-color: var(--fill-color);\n",
              "    }\n",
              "    30% {\n",
              "      border-color: transparent;\n",
              "      border-left-color: var(--fill-color);\n",
              "      border-top-color: var(--fill-color);\n",
              "      border-right-color: var(--fill-color);\n",
              "    }\n",
              "    40% {\n",
              "      border-color: transparent;\n",
              "      border-right-color: var(--fill-color);\n",
              "      border-top-color: var(--fill-color);\n",
              "    }\n",
              "    60% {\n",
              "      border-color: transparent;\n",
              "      border-right-color: var(--fill-color);\n",
              "    }\n",
              "    80% {\n",
              "      border-color: transparent;\n",
              "      border-right-color: var(--fill-color);\n",
              "      border-bottom-color: var(--fill-color);\n",
              "    }\n",
              "    90% {\n",
              "      border-color: transparent;\n",
              "      border-bottom-color: var(--fill-color);\n",
              "    }\n",
              "  }\n",
              "</style>\n",
              "\n",
              "  <script>\n",
              "    async function quickchart(key) {\n",
              "      const quickchartButtonEl =\n",
              "        document.querySelector('#' + key + ' button');\n",
              "      quickchartButtonEl.disabled = true;  // To prevent multiple clicks.\n",
              "      quickchartButtonEl.classList.add('colab-df-spinner');\n",
              "      try {\n",
              "        const charts = await google.colab.kernel.invokeFunction(\n",
              "            'suggestCharts', [key], {});\n",
              "      } catch (error) {\n",
              "        console.error('Error during call to suggestCharts:', error);\n",
              "      }\n",
              "      quickchartButtonEl.classList.remove('colab-df-spinner');\n",
              "      quickchartButtonEl.classList.add('colab-df-quickchart-complete');\n",
              "    }\n",
              "    (() => {\n",
              "      let quickchartButtonEl =\n",
              "        document.querySelector('#df-2b31a1fc-6429-4173-a879-cf438634aff0 button');\n",
              "      quickchartButtonEl.style.display =\n",
              "        google.colab.kernel.accessAllowed ? 'block' : 'none';\n",
              "    })();\n",
              "  </script>\n",
              "</div>\n",
              "\n",
              "    </div>\n",
              "  </div>\n"
            ],
            "text/plain": [
              "                                                        title sentimento  \\\n",
              "year_month                                                                 \n",
              "201501      Sundance 2015: Duplass Brothers, Netflix Make ...    Neutral   \n",
              "201501      Netflix Accelerates Ambitious Global Expansion...   Positive   \n",
              "201501       Movie Studio by Amazon for Screens Big and Small    Neutral   \n",
              "201501      As Content Pours From Everywhere, New Network ...    Neutral   \n",
              "201501                    Cleaning Up the Mac’s Printers List    Neutral   \n",
              "\n",
              "               score  \n",
              "year_month            \n",
              "201501      0.999860  \n",
              "201501      0.995587  \n",
              "201501      0.999978  \n",
              "201501      0.894186  \n",
              "201501      0.999932  "
            ]
          },
          "execution_count": 26,
          "metadata": {},
          "output_type": "execute_result"
        }
      ],
      "source": [
        "noticias.head()"
      ]
    },
    {
      "cell_type": "code",
      "execution_count": null,
      "metadata": {
        "colab": {
          "base_uri": "https://localhost:8080/"
        },
        "id": "CtynQHxgGZYw",
        "outputId": "9361346c-c997-4d37-e511-99cd94eb5da8"
      },
      "outputs": [
        {
          "name": "stdout",
          "output_type": "stream",
          "text": [
            "      month     score sentimento\n",
            "0   2015-01  0.978255    Neutral\n",
            "1   2015-02  0.993725    Neutral\n",
            "2   2015-03  0.947350    Neutral\n",
            "3   2015-04  0.999888    Neutral\n",
            "4   2015-05  0.999075    Neutral\n",
            "..      ...       ...        ...\n",
            "79  2021-08  0.967460    Neutral\n",
            "80  2021-09  0.999810    Neutral\n",
            "81  2021-10  0.977608    Neutral\n",
            "82  2021-11  0.993130    Neutral\n",
            "83  2021-12  0.999786    Neutral\n",
            "\n",
            "[84 rows x 3 columns]\n"
          ]
        }
      ],
      "source": [
        "noticias['year_month'] = pd.to_datetime(noticias['year_month'])\n",
        "\n",
        "noticias_monthly_avg = noticias.groupby(noticias['year_month'].dt.to_period('M')).agg({\n",
        "    'score': 'mean',\n",
        "    'sentimento': lambda x: x.mode()[0]  # Sentimento mais frequente\n",
        "}).reset_index()\n",
        "\n",
        "noticias_monthly_avg.rename(columns={'year_month': 'month'}, inplace=True)\n",
        "\n",
        "print(noticias_monthly_avg)"
      ]
    },
    {
      "cell_type": "code",
      "execution_count": null,
      "metadata": {
        "colab": {
          "base_uri": "https://localhost:8080/"
        },
        "id": "5nFhBcT_GiNH",
        "outputId": "8fd7bab5-e0dd-457c-8f56-29b06ef45941"
      },
      "outputs": [
        {
          "data": {
            "text/plain": [
              "array(['Neutral'], dtype=object)"
            ]
          },
          "execution_count": 36,
          "metadata": {},
          "output_type": "execute_result"
        }
      ],
      "source": [
        "noticias_monthly_avg['sentimento'].unique()"
      ]
    },
    {
      "cell_type": "code",
      "execution_count": null,
      "metadata": {
        "colab": {
          "base_uri": "https://localhost:8080/"
        },
        "id": "SqMkWEWPFOYP",
        "outputId": "188e6445-6db1-493a-d80c-46d7f1897832"
      },
      "outputs": [
        {
          "name": "stdout",
          "output_type": "stream",
          "text": [
            "Dados armazenados em avg_monthly_sentiment_scores_netflix.csv com sucesso.\n"
          ]
        }
      ],
      "source": [
        "csv_file = 'avg_monthly_sentiment_scores_netflix.csv'\n",
        "\n",
        "noticias_monthly_avg.to_csv(csv_file, index=False)\n",
        "\n",
        "print(f\"Dados armazenados em {csv_file} com sucesso.\")\n"
      ]
    }
  ],
  "metadata": {
    "accelerator": "GPU",
    "colab": {
      "gpuType": "T4",
      "provenance": []
    },
    "kernelspec": {
      "display_name": "Python 3",
      "name": "python3"
    },
    "language_info": {
      "name": "python"
    }
  },
  "nbformat": 4,
  "nbformat_minor": 0
}
